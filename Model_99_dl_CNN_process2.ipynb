{
 "cells": [
  {
   "cell_type": "code",
   "execution_count": 30,
   "id": "fd5b0227",
   "metadata": {},
   "outputs": [],
   "source": [
    "import pandas as pd\n",
    "import numpy as np\n",
    "from sklearn.model_selection import train_test_split\n",
    "from keras.layers import LSTM, Dense\n",
    "from keras.models import Sequential\n",
    "from keras.utils import to_categorical\n",
    "from sklearn.preprocessing import LabelEncoder\n",
    "import tensorflow as tf\n",
    "# Importing the libraries\n",
    "import numpy as np\n",
    "import matplotlib.pyplot as plt\n",
    "import sys, os\n",
    "import sklearn\n",
    "import numpy as np\n",
    "import pandas as pd\n",
    "import matplotlib.pyplot as plt\n",
    "import tensorflow as tf\n",
    "from keras.layers.convolutional import Conv1D\n",
    "from sklearn.utils import shuffle\n",
    "from tensorflow import keras\n",
    "from tensorflow.keras.layers import Bidirectional\n",
    "import tensorflow as tf\n",
    "from tensorflow.keras.layers import Input, Dropout, Dense, LSTM, TimeDistributed, RepeatVector\n",
    "from tensorflow.keras.layers import TimeDistributed\n",
    "from keras.models import Model\n",
    "from keras import regularizers\n",
    "from keras.layers  import  LSTM\n",
    "from keras.optimizers import Adam\n",
    "from keras import regularizers\n",
    "from keras.models import Sequential\n",
    "from keras.layers import Dense\n",
    "from tensorflow.keras.layers import Dense, LSTM, Dropout, RepeatVector\n",
    "from keras.models import Model\n",
    "import tensorflow as tf\n",
    "import math, sys, time\n",
    "import datetime\n",
    "from tensorflow.keras.callbacks import ModelCheckpoint\n",
    "\n",
    "from keras.layers import Input, Dropout, Dense, LSTM, TimeDistributed, RepeatVector\n",
    "from keras.models import Model\n",
    "from keras import regularizers\n",
    "# Multiple Inputs\n",
    "from tensorflow.keras.models import Sequential\n",
    "from tensorflow.keras.layers import Dense, LSTM, Dropout, RepeatVector, TimeDistributed\n",
    "from tensorflow.keras.utils import plot_model\n",
    "from tensorflow.keras.models import Model\n",
    "from tensorflow.keras.layers import Input\n",
    "from tensorflow.keras.layers import Dense\n",
    "from tensorflow.keras.layers import Dropout\n",
    "from tensorflow.keras.layers import Flatten\n",
    "from tensorflow.keras.layers import GRU\n",
    "from tensorflow.keras.layers import MaxPooling1D\n",
    "from tensorflow.keras.layers import RepeatVector\n",
    "from tensorflow.keras.layers import TimeDistributed\n",
    "#from tensorflow.keras.layers.convolutional import Conv2D\n",
    "from tensorflow.keras.layers import Conv1D\n",
    "from tensorflow.keras.layers import MaxPooling2D\n",
    "from tensorflow.keras.layers import concatenate\n",
    "from tensorflow.keras.layers import Bidirectional\n",
    "from tensorflow.keras.models import load_model\n",
    "import math, sys, time\n",
    "# Use scikit-learn to grid search the batch size and epochs\n",
    "import numpy\n",
    "from sklearn.model_selection import GridSearchCV\n",
    "from keras.models import Sequential\n",
    "from keras.layers import Dense\n",
    "from keras.wrappers.scikit_learn import KerasClassifier\n",
    "from tensorflow.keras.models import load_model\n",
    "from tensorflow.keras.layers import GRU, TimeDistributed, LSTM\n",
    "from keras.callbacks import ModelCheckpoint\n",
    "from keras.layers import Dense, Flatten, Dropout, Input\n",
    "from sklearn.preprocessing import MinMaxScaler\n",
    "from sklearn.decomposition import PCA\n",
    "\n",
    "from tensorflow.compat.v1 import ConfigProto\n",
    "from tensorflow.compat.v1 import InteractiveSession\n",
    "\n",
    "from pandas._testing import assert_frame_equal\n",
    "from pandas.testing import assert_index_equal\n",
    "\n",
    "#assert sys.version_info >= (3, 5)\n",
    "#assert sklearn.__version__ >= \"0.20\""
   ]
  },
  {
   "cell_type": "code",
   "execution_count": 2,
   "id": "21aef712",
   "metadata": {},
   "outputs": [],
   "source": [
    "from EEGP import EEGPreprocessor\n",
    "from neuralstart_filter import EEGFilter\n",
    "import pandas as pd\n",
    "import numpy as np\n",
    "from sklearn.utils import resample\n",
    "from scipy.signal import butter, filtfilt\n",
    "from sklearn.preprocessing import StandardScaler\n",
    "from sklearn.preprocessing import LabelEncoder\n",
    "from tensorflow.keras.preprocessing.sequence import pad_sequences\n",
    "import pywt\n",
    "from encoder_neuralstart import LabelEncoderModel\n",
    "from scaler_neuralstar import ScalerHandler\n",
    "from Neuralstart_process2 import EEGDataPreprocessor"
   ]
  },
  {
   "cell_type": "code",
   "execution_count": 3,
   "id": "0c21e2c6",
   "metadata": {},
   "outputs": [],
   "source": [
    "df = pd.read_csv(\"/Users/charleshajjar/Documents/DataAnalyse/data/CaptureSamples/charles_5m-2s-2.csv\")\n",
    "df = df.iloc[:500]"
   ]
  },
  {
   "cell_type": "code",
   "execution_count": 4,
   "id": "fb14b584",
   "metadata": {},
   "outputs": [
    {
     "name": "stderr",
     "output_type": "stream",
     "text": [
      "/Users/charleshajjar/Documents/DataAnalyse/EEGP.py:102: FutureWarning: The frame.append method is deprecated and will be removed from pandas in a future version. Use pandas.concat instead.\n",
      "  results_df = results_df.append({\"EEG Column\": column, \"Start Time\": start_time, \"End Time\": end_time},\n",
      "/Users/charleshajjar/Documents/DataAnalyse/EEGP.py:102: FutureWarning: The frame.append method is deprecated and will be removed from pandas in a future version. Use pandas.concat instead.\n",
      "  results_df = results_df.append({\"EEG Column\": column, \"Start Time\": start_time, \"End Time\": end_time},\n",
      "/Users/charleshajjar/Documents/DataAnalyse/EEGP.py:102: FutureWarning: The frame.append method is deprecated and will be removed from pandas in a future version. Use pandas.concat instead.\n",
      "  results_df = results_df.append({\"EEG Column\": column, \"Start Time\": start_time, \"End Time\": end_time},\n",
      "/Users/charleshajjar/Documents/DataAnalyse/EEGP.py:102: FutureWarning: The frame.append method is deprecated and will be removed from pandas in a future version. Use pandas.concat instead.\n",
      "  results_df = results_df.append({\"EEG Column\": column, \"Start Time\": start_time, \"End Time\": end_time},\n",
      "/Users/charleshajjar/Documents/DataAnalyse/EEGP.py:102: FutureWarning: The frame.append method is deprecated and will be removed from pandas in a future version. Use pandas.concat instead.\n",
      "  results_df = results_df.append({\"EEG Column\": column, \"Start Time\": start_time, \"End Time\": end_time},\n",
      "/Users/charleshajjar/Documents/DataAnalyse/EEGP.py:102: FutureWarning: The frame.append method is deprecated and will be removed from pandas in a future version. Use pandas.concat instead.\n",
      "  results_df = results_df.append({\"EEG Column\": column, \"Start Time\": start_time, \"End Time\": end_time},\n",
      "/Users/charleshajjar/Documents/DataAnalyse/EEGP.py:102: FutureWarning: The frame.append method is deprecated and will be removed from pandas in a future version. Use pandas.concat instead.\n",
      "  results_df = results_df.append({\"EEG Column\": column, \"Start Time\": start_time, \"End Time\": end_time},\n",
      "/Users/charleshajjar/Documents/DataAnalyse/EEGP.py:102: FutureWarning: The frame.append method is deprecated and will be removed from pandas in a future version. Use pandas.concat instead.\n",
      "  results_df = results_df.append({\"EEG Column\": column, \"Start Time\": start_time, \"End Time\": end_time},\n",
      "/Users/charleshajjar/Documents/DataAnalyse/EEGP.py:102: FutureWarning: The frame.append method is deprecated and will be removed from pandas in a future version. Use pandas.concat instead.\n",
      "  results_df = results_df.append({\"EEG Column\": column, \"Start Time\": start_time, \"End Time\": end_time},\n",
      "/Users/charleshajjar/Documents/DataAnalyse/EEGP.py:102: FutureWarning: The frame.append method is deprecated and will be removed from pandas in a future version. Use pandas.concat instead.\n",
      "  results_df = results_df.append({\"EEG Column\": column, \"Start Time\": start_time, \"End Time\": end_time},\n",
      "/Users/charleshajjar/Documents/DataAnalyse/EEGP.py:102: FutureWarning: The frame.append method is deprecated and will be removed from pandas in a future version. Use pandas.concat instead.\n",
      "  results_df = results_df.append({\"EEG Column\": column, \"Start Time\": start_time, \"End Time\": end_time},\n",
      "/Users/charleshajjar/Documents/DataAnalyse/EEGP.py:102: FutureWarning: The frame.append method is deprecated and will be removed from pandas in a future version. Use pandas.concat instead.\n",
      "  results_df = results_df.append({\"EEG Column\": column, \"Start Time\": start_time, \"End Time\": end_time},\n",
      "/Users/charleshajjar/Documents/DataAnalyse/EEGP.py:102: FutureWarning: The frame.append method is deprecated and will be removed from pandas in a future version. Use pandas.concat instead.\n",
      "  results_df = results_df.append({\"EEG Column\": column, \"Start Time\": start_time, \"End Time\": end_time},\n",
      "/Users/charleshajjar/Documents/DataAnalyse/EEGP.py:102: FutureWarning: The frame.append method is deprecated and will be removed from pandas in a future version. Use pandas.concat instead.\n",
      "  results_df = results_df.append({\"EEG Column\": column, \"Start Time\": start_time, \"End Time\": end_time},\n",
      "/Users/charleshajjar/Documents/DataAnalyse/EEGP.py:102: FutureWarning: The frame.append method is deprecated and will be removed from pandas in a future version. Use pandas.concat instead.\n",
      "  results_df = results_df.append({\"EEG Column\": column, \"Start Time\": start_time, \"End Time\": end_time},\n",
      "/Users/charleshajjar/Documents/DataAnalyse/EEGP.py:102: FutureWarning: The frame.append method is deprecated and will be removed from pandas in a future version. Use pandas.concat instead.\n",
      "  results_df = results_df.append({\"EEG Column\": column, \"Start Time\": start_time, \"End Time\": end_time},\n",
      "/Users/charleshajjar/Documents/DataAnalyse/EEGP.py:102: FutureWarning: The frame.append method is deprecated and will be removed from pandas in a future version. Use pandas.concat instead.\n",
      "  results_df = results_df.append({\"EEG Column\": column, \"Start Time\": start_time, \"End Time\": end_time},\n",
      "/Users/charleshajjar/Documents/DataAnalyse/EEGP.py:102: FutureWarning: The frame.append method is deprecated and will be removed from pandas in a future version. Use pandas.concat instead.\n",
      "  results_df = results_df.append({\"EEG Column\": column, \"Start Time\": start_time, \"End Time\": end_time},\n",
      "/Users/charleshajjar/Documents/DataAnalyse/EEGP.py:102: FutureWarning: The frame.append method is deprecated and will be removed from pandas in a future version. Use pandas.concat instead.\n",
      "  results_df = results_df.append({\"EEG Column\": column, \"Start Time\": start_time, \"End Time\": end_time},\n",
      "/Users/charleshajjar/Documents/DataAnalyse/EEGP.py:102: FutureWarning: The frame.append method is deprecated and will be removed from pandas in a future version. Use pandas.concat instead.\n",
      "  results_df = results_df.append({\"EEG Column\": column, \"Start Time\": start_time, \"End Time\": end_time},\n",
      "/Users/charleshajjar/Documents/DataAnalyse/EEGP.py:102: FutureWarning: The frame.append method is deprecated and will be removed from pandas in a future version. Use pandas.concat instead.\n",
      "  results_df = results_df.append({\"EEG Column\": column, \"Start Time\": start_time, \"End Time\": end_time},\n",
      "/Users/charleshajjar/Documents/DataAnalyse/EEGP.py:102: FutureWarning: The frame.append method is deprecated and will be removed from pandas in a future version. Use pandas.concat instead.\n",
      "  results_df = results_df.append({\"EEG Column\": column, \"Start Time\": start_time, \"End Time\": end_time},\n",
      "/Users/charleshajjar/Documents/DataAnalyse/EEGP.py:102: FutureWarning: The frame.append method is deprecated and will be removed from pandas in a future version. Use pandas.concat instead.\n",
      "  results_df = results_df.append({\"EEG Column\": column, \"Start Time\": start_time, \"End Time\": end_time},\n",
      "/Users/charleshajjar/Documents/DataAnalyse/EEGP.py:102: FutureWarning: The frame.append method is deprecated and will be removed from pandas in a future version. Use pandas.concat instead.\n",
      "  results_df = results_df.append({\"EEG Column\": column, \"Start Time\": start_time, \"End Time\": end_time},\n",
      "/Users/charleshajjar/Documents/DataAnalyse/EEGP.py:102: FutureWarning: The frame.append method is deprecated and will be removed from pandas in a future version. Use pandas.concat instead.\n",
      "  results_df = results_df.append({\"EEG Column\": column, \"Start Time\": start_time, \"End Time\": end_time},\n",
      "/Users/charleshajjar/Documents/DataAnalyse/EEGP.py:102: FutureWarning: The frame.append method is deprecated and will be removed from pandas in a future version. Use pandas.concat instead.\n",
      "  results_df = results_df.append({\"EEG Column\": column, \"Start Time\": start_time, \"End Time\": end_time},\n",
      "/Users/charleshajjar/Documents/DataAnalyse/EEGP.py:102: FutureWarning: The frame.append method is deprecated and will be removed from pandas in a future version. Use pandas.concat instead.\n",
      "  results_df = results_df.append({\"EEG Column\": column, \"Start Time\": start_time, \"End Time\": end_time},\n",
      "/Users/charleshajjar/Documents/DataAnalyse/EEGP.py:102: FutureWarning: The frame.append method is deprecated and will be removed from pandas in a future version. Use pandas.concat instead.\n",
      "  results_df = results_df.append({\"EEG Column\": column, \"Start Time\": start_time, \"End Time\": end_time},\n",
      "/Users/charleshajjar/Documents/DataAnalyse/EEGP.py:102: FutureWarning: The frame.append method is deprecated and will be removed from pandas in a future version. Use pandas.concat instead.\n",
      "  results_df = results_df.append({\"EEG Column\": column, \"Start Time\": start_time, \"End Time\": end_time},\n",
      "/Users/charleshajjar/Documents/DataAnalyse/EEGP.py:102: FutureWarning: The frame.append method is deprecated and will be removed from pandas in a future version. Use pandas.concat instead.\n",
      "  results_df = results_df.append({\"EEG Column\": column, \"Start Time\": start_time, \"End Time\": end_time},\n",
      "/Users/charleshajjar/Documents/DataAnalyse/EEGP.py:102: FutureWarning: The frame.append method is deprecated and will be removed from pandas in a future version. Use pandas.concat instead.\n",
      "  results_df = results_df.append({\"EEG Column\": column, \"Start Time\": start_time, \"End Time\": end_time},\n",
      "/Users/charleshajjar/Documents/DataAnalyse/EEGP.py:102: FutureWarning: The frame.append method is deprecated and will be removed from pandas in a future version. Use pandas.concat instead.\n",
      "  results_df = results_df.append({\"EEG Column\": column, \"Start Time\": start_time, \"End Time\": end_time},\n"
     ]
    },
    {
     "name": "stderr",
     "output_type": "stream",
     "text": [
      "/Users/charleshajjar/NeuralStar/lib/python3.9/site-packages/scipy/stats/_morestats.py:3414: UserWarning: Exact p-value calculation does not work if there are zeros. Switching to normal approximation.\n",
      "  warnings.warn(\"Exact p-value calculation does not work if there are \"\n",
      "/Users/charleshajjar/NeuralStar/lib/python3.9/site-packages/scipy/stats/_morestats.py:3414: UserWarning: Exact p-value calculation does not work if there are zeros. Switching to normal approximation.\n",
      "  warnings.warn(\"Exact p-value calculation does not work if there are \"\n",
      "/Users/charleshajjar/NeuralStar/lib/python3.9/site-packages/scipy/stats/_morestats.py:3414: UserWarning: Exact p-value calculation does not work if there are zeros. Switching to normal approximation.\n",
      "  warnings.warn(\"Exact p-value calculation does not work if there are \"\n",
      "/Users/charleshajjar/NeuralStar/lib/python3.9/site-packages/scipy/stats/_morestats.py:3414: UserWarning: Exact p-value calculation does not work if there are zeros. Switching to normal approximation.\n",
      "  warnings.warn(\"Exact p-value calculation does not work if there are \"\n",
      "/Users/charleshajjar/NeuralStar/lib/python3.9/site-packages/scipy/stats/_morestats.py:3414: UserWarning: Exact p-value calculation does not work if there are zeros. Switching to normal approximation.\n",
      "  warnings.warn(\"Exact p-value calculation does not work if there are \"\n",
      "/Users/charleshajjar/NeuralStar/lib/python3.9/site-packages/scipy/stats/_morestats.py:3414: UserWarning: Exact p-value calculation does not work if there are zeros. Switching to normal approximation.\n",
      "  warnings.warn(\"Exact p-value calculation does not work if there are \"\n",
      "/Users/charleshajjar/NeuralStar/lib/python3.9/site-packages/scipy/stats/_morestats.py:3414: UserWarning: Exact p-value calculation does not work if there are zeros. Switching to normal approximation.\n",
      "  warnings.warn(\"Exact p-value calculation does not work if there are \"\n"
     ]
    }
   ],
   "source": [
    "# Créer une instance de la classe EEGFilter\n",
    "eeg_filter = EEGFilter(lowcut=4.0, highcut=1.0, order=4, fs=250.0)\n",
    "# Appliquer les filtres au dataframe\n",
    "df = eeg_filter.filter_dataframe(df)\n",
    "preprocessor = EEGPreprocessor(df)\n",
    "filtered_df = preprocessor.apply_butter_filter()\n",
    "results_df = preprocessor.detect_threshold_changes()\n",
    "filtered_df = preprocessor.convert_timestamp()\n",
    "filtered_df = preprocessor.label_thinking_periods(results_df)\n",
    "transformed_data_df = preprocessor.transform_data(filtered_df)\n",
    "calculated_p_value_df = preprocessor.calculate_p_value(filtered_df)\n",
    "p_value_df = filtered_df.assign(p_value=calculated_p_value_df['p_value'])\n",
    "fdr = preprocessor.fdr_correction(p_value_df)"
   ]
  },
  {
   "cell_type": "code",
   "execution_count": 5,
   "id": "157b2b9f",
   "metadata": {},
   "outputs": [],
   "source": [
    "label_encoder_model = LabelEncoderModel(\"Label\")\n",
    "label_encoder_model.fit(fdr)\n",
    "# Enregistrement du modèle\n",
    "label_encoder_model.save(\"Label_process2.joblib\")\n",
    "label_encoder_model.load(\"Label_process2.joblib\")\n",
    "# Transformation des données\n",
    "fdr = label_encoder_model.transform(fdr)"
   ]
  },
  {
   "cell_type": "code",
   "execution_count": 6,
   "id": "0d184b09",
   "metadata": {},
   "outputs": [],
   "source": [
    "direction_encoder_model = LabelEncoderModel(\"Direction\")\n",
    "direction_encoder_model.fit(fdr)\n",
    "# Enregistrement du modèle\n",
    "direction_encoder_model.save(\"direction_process2.joblib\")\n",
    "direction_encoder_model.load(\"direction_process2.joblib\")\n",
    "fdr = direction_encoder_model.transform(fdr)\n",
    "scaler_handler = ScalerHandler('./scaler_process2.joblib')\n",
    "# Chargement du modèle de normalisation à partir du chemin\n",
    "fdr = scaler_handler.standardize_data(fdr)"
   ]
  },
  {
   "cell_type": "code",
   "execution_count": 7,
   "id": "ebfac918",
   "metadata": {},
   "outputs": [],
   "source": [
    "X, y = preprocessor.get_sequences_labels_omega(fdr, 10)"
   ]
  },
  {
   "cell_type": "code",
   "execution_count": 8,
   "id": "f470446c",
   "metadata": {},
   "outputs": [
    {
     "name": "stdout",
     "output_type": "stream",
     "text": [
      "[0. 5.]\n",
      "[1 9]\n"
     ]
    }
   ],
   "source": [
    "unique_vals, counts = np.unique(y, return_counts=True)\n",
    "\n",
    "print(unique_vals)\n",
    "print(counts)"
   ]
  },
  {
   "cell_type": "code",
   "execution_count": 9,
   "id": "b4e68223",
   "metadata": {},
   "outputs": [],
   "source": [
    "########TESTT"
   ]
  },
  {
   "cell_type": "code",
   "execution_count": 10,
   "id": "822c0074",
   "metadata": {},
   "outputs": [],
   "source": [
    "df2 = pd.read_csv(\"/Users/charleshajjar/Documents/DataAnalyse/data_modif_5m_2s.csv\")"
   ]
  },
  {
   "cell_type": "code",
   "execution_count": 11,
   "id": "6c42fffd",
   "metadata": {},
   "outputs": [],
   "source": [
    "# Créer une instance de la classe EEGDataPreprocessor\n",
    "#preprocessor = EEGDataPreprocessor(df2)\n",
    "# Appeler la méthode preprocess_data pour preprocessor les données\n",
    "#fdr2 = preprocessor.preprocess_data()"
   ]
  },
  {
   "cell_type": "code",
   "execution_count": 12,
   "id": "99a4b540",
   "metadata": {},
   "outputs": [],
   "source": [
    "preprocessor = EEGPreprocessor(df2)\n",
    "X_, y_ = preprocessor.get_sequences_labels_omega(df2, 10)"
   ]
  },
  {
   "cell_type": "code",
   "execution_count": 13,
   "id": "66a4c1db",
   "metadata": {},
   "outputs": [
    {
     "name": "stdout",
     "output_type": "stream",
     "text": [
      "[0. 1. 2. 3. 4. 5.]\n",
      "[ 1044  1069   859   690   389 53124]\n"
     ]
    }
   ],
   "source": [
    "unique_valss, countss = np.unique(y_, return_counts=True)\n",
    "\n",
    "print(unique_valss)\n",
    "print(countss)"
   ]
  },
  {
   "cell_type": "code",
   "execution_count": 14,
   "id": "403af6e3",
   "metadata": {},
   "outputs": [],
   "source": [
    "# Séparation en données d'entraînement et de validation\n",
    "X_train, X_val, y_train, y_val = train_test_split(X_, y_, test_size=0.2, random_state=42)"
   ]
  },
  {
   "cell_type": "code",
   "execution_count": 35,
   "id": "ce49fe3b",
   "metadata": {},
   "outputs": [
    {
     "data": {
      "text/plain": [
       "(45740, 10, 18)"
      ]
     },
     "execution_count": 35,
     "metadata": {},
     "output_type": "execute_result"
    }
   ],
   "source": [
    "X_train.shape"
   ]
  },
  {
   "cell_type": "code",
   "execution_count": 15,
   "id": "8972af11",
   "metadata": {},
   "outputs": [],
   "source": [
    "sys.path.append('/Users/charleshajjar/Documents/DataAnalyse/neuralstart_model')\n",
    "from Gate_activation import GatedActivationUnit\n",
    "from NeuralNet import WaveNet_EEGModel"
   ]
  },
  {
   "cell_type": "code",
   "execution_count": 45,
   "id": "96503ea0",
   "metadata": {},
   "outputs": [],
   "source": [
    "from sklearn.datasets import make_classification\n",
    "from sklearn.utils import compute_class_weight\n",
    "from sklearn.utils.class_weight import compute_class_weight\n",
    "from sklearn.model_selection import train_test_split\n",
    "model = Sequential()\n",
    "model.add(Conv1D(32, (3,), activation='relu', input_shape=(X_train.shape[1], X_train.shape[2])))\n",
    "model.add(MaxPooling1D(2))\n",
    "model.add(Flatten())\n",
    "model.add(Dense(128, activation='relu'))\n",
    "model.add(Dense(6, activation='softmax'))\n",
    "\n",
    "model.compile(loss='sparse_categorical_crossentropy', optimizer='adam', metrics=['accuracy'])\n",
    "classes = np.unique(y_train)\n",
    "class_weights = compute_class_weight(class_weight = \"balanced\", classes= classes, y= y_train)\n",
    "class_weights = {i: w for i, w in enumerate(class_weights)}"
   ]
  },
  {
   "cell_type": "code",
   "execution_count": 46,
   "id": "b6cfd0d6",
   "metadata": {},
   "outputs": [
    {
     "name": "stdout",
     "output_type": "stream",
     "text": [
      "Epoch 1/10\n",
      "458/458 [==============================] - 2s 3ms/step - loss: 0.8023 - accuracy: 0.9166 - val_loss: 0.1180 - val_accuracy: 0.9690\n",
      "Epoch 2/10\n",
      "458/458 [==============================] - 1s 2ms/step - loss: 0.1902 - accuracy: 0.9807 - val_loss: 0.0327 - val_accuracy: 0.9879\n",
      "Epoch 3/10\n",
      "458/458 [==============================] - 1s 2ms/step - loss: 0.0763 - accuracy: 0.9915 - val_loss: 0.0208 - val_accuracy: 0.9922\n",
      "Epoch 4/10\n",
      "458/458 [==============================] - 1s 2ms/step - loss: 0.0470 - accuracy: 0.9974 - val_loss: 0.0103 - val_accuracy: 0.9982\n",
      "Epoch 5/10\n",
      "458/458 [==============================] - 1s 2ms/step - loss: 0.0255 - accuracy: 0.9990 - val_loss: 0.0062 - val_accuracy: 0.9988\n",
      "Epoch 6/10\n",
      "458/458 [==============================] - 1s 2ms/step - loss: 0.0316 - accuracy: 0.9992 - val_loss: 0.0053 - val_accuracy: 0.9990\n",
      "Epoch 7/10\n",
      "458/458 [==============================] - 1s 2ms/step - loss: 0.0320 - accuracy: 0.9993 - val_loss: 0.0054 - val_accuracy: 0.9987\n",
      "Epoch 8/10\n",
      "458/458 [==============================] - 1s 2ms/step - loss: 0.0055 - accuracy: 0.9999 - val_loss: 0.0051 - val_accuracy: 0.9991\n",
      "Epoch 9/10\n",
      "458/458 [==============================] - 1s 2ms/step - loss: 0.0118 - accuracy: 0.9997 - val_loss: 0.0026 - val_accuracy: 0.9992\n",
      "Epoch 10/10\n",
      "458/458 [==============================] - 1s 2ms/step - loss: 0.0047 - accuracy: 0.9998 - val_loss: 0.0024 - val_accuracy: 0.9991\n"
     ]
    },
    {
     "data": {
      "text/plain": [
       "<keras.callbacks.History at 0x181c6f6d0>"
      ]
     },
     "execution_count": 46,
     "metadata": {},
     "output_type": "execute_result"
    }
   ],
   "source": [
    "model.fit(X_train, y_train, epochs=10, batch_size=100, validation_data=(X_val, y_val), shuffle=True, class_weight=class_weights)"
   ]
  },
  {
   "cell_type": "code",
   "execution_count": 47,
   "id": "923888f5",
   "metadata": {},
   "outputs": [
    {
     "name": "stdout",
     "output_type": "stream",
     "text": [
      "358/358 - 0s - loss: 0.0024 - accuracy: 0.9991 - 325ms/epoch - 908us/step\n",
      "\n",
      "Test accuracy: 0.9991254806518555\n"
     ]
    }
   ],
   "source": [
    "# Évaluer la performance du modèle sur les données de test\n",
    "test_loss, test_acc = model.evaluate(X_val, y_val, verbose=2)\n",
    "print('\\nTest accuracy:', test_acc)"
   ]
  },
  {
   "cell_type": "code",
   "execution_count": 48,
   "id": "1331e83b",
   "metadata": {},
   "outputs": [
    {
     "name": "stdout",
     "output_type": "stream",
     "text": [
      "1/1 - 0s - loss: 0.0314 - accuracy: 1.0000 - 20ms/epoch - 20ms/step\n",
      "\n",
      "Test accuracy: 1.0\n",
      "\n",
      "Test loss: 0.03141096606850624\n"
     ]
    }
   ],
   "source": [
    "# Évaluer la performance du modèle sur les données de test\n",
    "test_loss, test_acc = model.evaluate(X, y, verbose=2)\n",
    "print('\\nTest accuracy:', test_acc)\n",
    "print('\\nTest loss:', test_loss)"
   ]
  },
  {
   "cell_type": "code",
   "execution_count": 50,
   "id": "1e1a52eb",
   "metadata": {},
   "outputs": [
    {
     "name": "stdout",
     "output_type": "stream",
     "text": [
      "358/358 [==============================] - 1s 843us/step\n"
     ]
    }
   ],
   "source": [
    "val_predictions = model.predict(X_val)\n",
    "val_classes = val_predictions.argmax(axis=1)"
   ]
  },
  {
   "cell_type": "code",
   "execution_count": 51,
   "id": "bbb9d0c9",
   "metadata": {},
   "outputs": [
    {
     "name": "stdout",
     "output_type": "stream",
     "text": [
      "Matrice de confusion :\n",
      "[[  218     0     0     0     0     1]\n",
      " [    0   193     0     0     0     1]\n",
      " [    0     0   149     4     0     0]\n",
      " [    0     0     0   140     1     0]\n",
      " [    0     0     0     2    68     0]\n",
      " [    0     0     0     0     1 10657]]\n",
      "Accuracy : 0.9991254919108001\n",
      "Precision : 0.9991254919108001\n",
      "Recall : 0.9991254919108001\n",
      "F1 Score : 0.9991254919108001\n"
     ]
    }
   ],
   "source": [
    "import tensorflow as tf\n",
    "import numpy as np\n",
    "from sklearn.metrics import confusion_matrix, accuracy_score, precision_score, recall_score, f1_score\n",
    "# Créer la matrice de confusion\n",
    "cm = confusion_matrix(y_val, val_classes)\n",
    "print('Matrice de confusion :')\n",
    "print(cm)\n",
    "\n",
    "# Calculer les métriques de performance\n",
    "acc = accuracy_score(y_val, val_classes)\n",
    "prec = precision_score(y_val, val_classes,average='micro')\n",
    "rec = recall_score(y_val, val_classes,average='micro')\n",
    "f1 = f1_score(y_val, val_classes,average='micro')\n",
    "\n",
    "print('Accuracy :', acc)\n",
    "print('Precision :', prec)\n",
    "print('Recall :', rec)\n",
    "print('F1 Score :', f1)"
   ]
  },
  {
   "cell_type": "code",
   "execution_count": 52,
   "id": "f731ed88",
   "metadata": {},
   "outputs": [
    {
     "name": "stdout",
     "output_type": "stream",
     "text": [
      "1/1 [==============================] - 0s 21ms/step\n"
     ]
    }
   ],
   "source": [
    "val_predictions = model.predict(X)\n",
    "val_classes = val_predictions.argmax(axis=1)"
   ]
  },
  {
   "cell_type": "code",
   "execution_count": 53,
   "id": "1716651e",
   "metadata": {},
   "outputs": [
    {
     "name": "stdout",
     "output_type": "stream",
     "text": [
      "Matrice de confusion :\n",
      "[[1 0]\n",
      " [0 9]]\n",
      "Accuracy : 1.0\n",
      "Precision : 1.0\n",
      "Recall : 1.0\n",
      "F1 Score : 1.0\n"
     ]
    }
   ],
   "source": [
    "import tensorflow as tf\n",
    "import numpy as np\n",
    "from sklearn.metrics import confusion_matrix, accuracy_score, precision_score, recall_score, f1_score\n",
    "# Créer la matrice de confusion\n",
    "cm = confusion_matrix(y, val_classes)\n",
    "print('Matrice de confusion :')\n",
    "print(cm)\n",
    "\n",
    "# Calculer les métriques de performance\n",
    "acc = accuracy_score(y, val_classes)\n",
    "prec = precision_score(y, val_classes,average='micro')\n",
    "rec = recall_score(y, val_classes,average='micro')\n",
    "f1 = f1_score(y, val_classes,average='micro')\n",
    "\n",
    "print('Accuracy :', acc)\n",
    "print('Precision :', prec)\n",
    "print('Recall :', rec)\n",
    "print('F1 Score :', f1)"
   ]
  },
  {
   "cell_type": "code",
   "execution_count": null,
   "id": "00361e9f",
   "metadata": {},
   "outputs": [],
   "source": []
  }
 ],
 "metadata": {
  "kernelspec": {
   "display_name": "Python 3 (ipykernel)",
   "language": "python",
   "name": "python3"
  },
  "language_info": {
   "codemirror_mode": {
    "name": "ipython",
    "version": 3
   },
   "file_extension": ".py",
   "mimetype": "text/x-python",
   "name": "python",
   "nbconvert_exporter": "python",
   "pygments_lexer": "ipython3",
   "version": "3.9.6"
  }
 },
 "nbformat": 4,
 "nbformat_minor": 5
}
